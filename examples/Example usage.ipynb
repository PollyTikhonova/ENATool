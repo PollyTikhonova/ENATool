{
 "cells": [
  {
   "cell_type": "markdown",
   "metadata": {},
   "source": [
    "#### Import library"
   ]
  },
  {
   "cell_type": "code",
   "execution_count": 3,
   "metadata": {},
   "outputs": [],
   "source": [
    "import ENA_tools"
   ]
  },
  {
   "cell_type": "code",
   "execution_count": null,
   "metadata": {},
   "outputs": [],
   "source": [
    "# maybe you need to set up the variable like ENA_ASPERA_INIFILE\n",
    "# export ENA_ASPERA_INIFILE=\"/path/to/aspera_settings.ini\"\n",
    "import os\n",
    "os.environ['ENA_ASPERA_INIFILE'] = '/path/to/aspera_settings.ini'"
   ]
  },
  {
   "cell_type": "markdown",
   "metadata": {},
   "source": [
    "### Download metadata, filter table and download filtered"
   ]
  },
  {
   "cell_type": "markdown",
   "metadata": {},
   "source": [
    "#### Download metadata & samples info"
   ]
  },
  {
   "cell_type": "code",
   "execution_count": 4,
   "metadata": {
    "ExecuteTime": {
     "end_time": "2021-03-31T13:55:35.600127Z",
     "start_time": "2021-03-31T13:55:35.595636Z"
    },
    "init_cell": true
   },
   "outputs": [
    {
     "data": {
      "application/vnd.jupyter.widget-view+json": {
       "model_id": "47ce3e50aefd44788b31dc3159ea5f24",
       "version_major": 2,
       "version_minor": 0
      },
      "text/plain": [
       "HBox(children=(FloatProgress(value=0.0, description='Processing project pages', max=1.0, style=ProgressStyle(d…"
      ]
     },
     "metadata": {},
     "output_type": "display_data"
    },
    {
     "name": "stdout",
     "output_type": "stream",
     "text": [
      "\n"
     ]
    },
    {
     "data": {
      "text/html": [
       "<div>\n",
       "<style scoped>\n",
       "    .dataframe tbody tr th:only-of-type {\n",
       "        vertical-align: middle;\n",
       "    }\n",
       "\n",
       "    .dataframe tbody tr th {\n",
       "        vertical-align: top;\n",
       "    }\n",
       "\n",
       "    .dataframe thead th {\n",
       "        text-align: right;\n",
       "    }\n",
       "</style>\n",
       "<table border=\"1\" class=\"dataframe\">\n",
       "  <thead>\n",
       "    <tr style=\"text-align: right;\">\n",
       "      <th></th>\n",
       "      <th>SAMPLE__IDENTIFIERS__PRIMARY_ID</th>\n",
       "      <th>SAMPLE__IDENTIFIERS__EXTERNAL_ID</th>\n",
       "      <th>SAMPLE__IDENTIFIERS__SUBMITTER_ID</th>\n",
       "      <th>SAMPLE__IDENTIFIERS__TITLE</th>\n",
       "      <th>SAMPLE_NAME__TAXON_ID</th>\n",
       "      <th>SAMPLE_NAME__SCIENTIFIC_NAME</th>\n",
       "      <th>SAMPLE_NAME__COMMON_NAME</th>\n",
       "      <th>SAMPLE_NAME__DESCRIPTION</th>\n",
       "      <th>SAMPLE_ATTRIBUTE__UNITS</th>\n",
       "      <th>ENA-STUDY</th>\n",
       "      <th>...</th>\n",
       "      <th>sra_aspera</th>\n",
       "      <th>sra_galaxy</th>\n",
       "      <th>cram_index_ftp</th>\n",
       "      <th>cram_index_aspera</th>\n",
       "      <th>cram_index_galaxy</th>\n",
       "      <th>sample_alias</th>\n",
       "      <th>broker_name</th>\n",
       "      <th>sample_title</th>\n",
       "      <th>nominal_sdev</th>\n",
       "      <th>first_created</th>\n",
       "    </tr>\n",
       "  </thead>\n",
       "  <tbody>\n",
       "    <tr>\n",
       "      <th>SAMEA6359322</th>\n",
       "      <td>ERS4125572</td>\n",
       "      <td>SAMEA6359322</td>\n",
       "      <td>C10F-V3-V4</td>\n",
       "      <td>C10F-V3-V4</td>\n",
       "      <td>408170</td>\n",
       "      <td>human gut metagenome</td>\n",
       "      <td>metagenomes</td>\n",
       "      <td>Bacterial community in feces of sample C10F</td>\n",
       "      <td>DD</td>\n",
       "      <td>ERP118751</td>\n",
       "      <td>...</td>\n",
       "      <td>NaN</td>\n",
       "      <td>NaN</td>\n",
       "      <td>NaN</td>\n",
       "      <td>NaN</td>\n",
       "      <td>NaN</td>\n",
       "      <td>C10F-V3-V4</td>\n",
       "      <td>NaN</td>\n",
       "      <td>C10F-V3-V4</td>\n",
       "      <td>0</td>\n",
       "      <td>2019-12-04</td>\n",
       "    </tr>\n",
       "    <tr>\n",
       "      <th>SAMEA6359323</th>\n",
       "      <td>ERS4125573</td>\n",
       "      <td>SAMEA6359323</td>\n",
       "      <td>C11F-V3-V4</td>\n",
       "      <td>C11F-V3-V4</td>\n",
       "      <td>408170</td>\n",
       "      <td>human gut metagenome</td>\n",
       "      <td>metagenomes</td>\n",
       "      <td>Bacterial community in feces of sample C11F</td>\n",
       "      <td>DD</td>\n",
       "      <td>ERP118751</td>\n",
       "      <td>...</td>\n",
       "      <td>NaN</td>\n",
       "      <td>NaN</td>\n",
       "      <td>NaN</td>\n",
       "      <td>NaN</td>\n",
       "      <td>NaN</td>\n",
       "      <td>C11F-V3-V4</td>\n",
       "      <td>NaN</td>\n",
       "      <td>C11F-V3-V4</td>\n",
       "      <td>0</td>\n",
       "      <td>2019-12-04</td>\n",
       "    </tr>\n",
       "    <tr>\n",
       "      <th>SAMEA6359324</th>\n",
       "      <td>ERS4125574</td>\n",
       "      <td>SAMEA6359324</td>\n",
       "      <td>C12F-V3-V4</td>\n",
       "      <td>C12F-V3-V4</td>\n",
       "      <td>408170</td>\n",
       "      <td>human gut metagenome</td>\n",
       "      <td>metagenomes</td>\n",
       "      <td>Bacterial community in feces of sample C12F</td>\n",
       "      <td>DD</td>\n",
       "      <td>ERP118751</td>\n",
       "      <td>...</td>\n",
       "      <td>NaN</td>\n",
       "      <td>NaN</td>\n",
       "      <td>NaN</td>\n",
       "      <td>NaN</td>\n",
       "      <td>NaN</td>\n",
       "      <td>C12F-V3-V4</td>\n",
       "      <td>NaN</td>\n",
       "      <td>C12F-V3-V4</td>\n",
       "      <td>0</td>\n",
       "      <td>2019-12-04</td>\n",
       "    </tr>\n",
       "    <tr>\n",
       "      <th>SAMEA6359325</th>\n",
       "      <td>ERS4125575</td>\n",
       "      <td>SAMEA6359325</td>\n",
       "      <td>C13F-V3-V4</td>\n",
       "      <td>C13F-V3-V4</td>\n",
       "      <td>408170</td>\n",
       "      <td>human gut metagenome</td>\n",
       "      <td>metagenomes</td>\n",
       "      <td>Bacterial community in feces of sample C13F</td>\n",
       "      <td>DD</td>\n",
       "      <td>ERP118751</td>\n",
       "      <td>...</td>\n",
       "      <td>NaN</td>\n",
       "      <td>NaN</td>\n",
       "      <td>NaN</td>\n",
       "      <td>NaN</td>\n",
       "      <td>NaN</td>\n",
       "      <td>C13F-V3-V4</td>\n",
       "      <td>NaN</td>\n",
       "      <td>C13F-V3-V4</td>\n",
       "      <td>0</td>\n",
       "      <td>2019-12-04</td>\n",
       "    </tr>\n",
       "    <tr>\n",
       "      <th>SAMEA6359326</th>\n",
       "      <td>ERS4125576</td>\n",
       "      <td>SAMEA6359326</td>\n",
       "      <td>C14F-V3-V4</td>\n",
       "      <td>C14F-V3-V4</td>\n",
       "      <td>408170</td>\n",
       "      <td>human gut metagenome</td>\n",
       "      <td>metagenomes</td>\n",
       "      <td>Bacterial community in feces of sample C14F</td>\n",
       "      <td>DD</td>\n",
       "      <td>ERP118751</td>\n",
       "      <td>...</td>\n",
       "      <td>NaN</td>\n",
       "      <td>NaN</td>\n",
       "      <td>NaN</td>\n",
       "      <td>NaN</td>\n",
       "      <td>NaN</td>\n",
       "      <td>C14F-V3-V4</td>\n",
       "      <td>NaN</td>\n",
       "      <td>C14F-V3-V4</td>\n",
       "      <td>0</td>\n",
       "      <td>2019-12-04</td>\n",
       "    </tr>\n",
       "  </tbody>\n",
       "</table>\n",
       "<p>5 rows × 83 columns</p>\n",
       "</div>"
      ],
      "text/plain": [
       "             SAMPLE__IDENTIFIERS__PRIMARY_ID SAMPLE__IDENTIFIERS__EXTERNAL_ID  \\\n",
       "SAMEA6359322                      ERS4125572                     SAMEA6359322   \n",
       "SAMEA6359323                      ERS4125573                     SAMEA6359323   \n",
       "SAMEA6359324                      ERS4125574                     SAMEA6359324   \n",
       "SAMEA6359325                      ERS4125575                     SAMEA6359325   \n",
       "SAMEA6359326                      ERS4125576                     SAMEA6359326   \n",
       "\n",
       "             SAMPLE__IDENTIFIERS__SUBMITTER_ID SAMPLE__IDENTIFIERS__TITLE  \\\n",
       "SAMEA6359322                        C10F-V3-V4                 C10F-V3-V4   \n",
       "SAMEA6359323                        C11F-V3-V4                 C11F-V3-V4   \n",
       "SAMEA6359324                        C12F-V3-V4                 C12F-V3-V4   \n",
       "SAMEA6359325                        C13F-V3-V4                 C13F-V3-V4   \n",
       "SAMEA6359326                        C14F-V3-V4                 C14F-V3-V4   \n",
       "\n",
       "             SAMPLE_NAME__TAXON_ID SAMPLE_NAME__SCIENTIFIC_NAME  \\\n",
       "SAMEA6359322                408170         human gut metagenome   \n",
       "SAMEA6359323                408170         human gut metagenome   \n",
       "SAMEA6359324                408170         human gut metagenome   \n",
       "SAMEA6359325                408170         human gut metagenome   \n",
       "SAMEA6359326                408170         human gut metagenome   \n",
       "\n",
       "             SAMPLE_NAME__COMMON_NAME  \\\n",
       "SAMEA6359322              metagenomes   \n",
       "SAMEA6359323              metagenomes   \n",
       "SAMEA6359324              metagenomes   \n",
       "SAMEA6359325              metagenomes   \n",
       "SAMEA6359326              metagenomes   \n",
       "\n",
       "                                 SAMPLE_NAME__DESCRIPTION  \\\n",
       "SAMEA6359322  Bacterial community in feces of sample C10F   \n",
       "SAMEA6359323  Bacterial community in feces of sample C11F   \n",
       "SAMEA6359324  Bacterial community in feces of sample C12F   \n",
       "SAMEA6359325  Bacterial community in feces of sample C13F   \n",
       "SAMEA6359326  Bacterial community in feces of sample C14F   \n",
       "\n",
       "             SAMPLE_ATTRIBUTE__UNITS  ENA-STUDY  ... sra_aspera sra_galaxy  \\\n",
       "SAMEA6359322                      DD  ERP118751  ...        NaN        NaN   \n",
       "SAMEA6359323                      DD  ERP118751  ...        NaN        NaN   \n",
       "SAMEA6359324                      DD  ERP118751  ...        NaN        NaN   \n",
       "SAMEA6359325                      DD  ERP118751  ...        NaN        NaN   \n",
       "SAMEA6359326                      DD  ERP118751  ...        NaN        NaN   \n",
       "\n",
       "             cram_index_ftp cram_index_aspera cram_index_galaxy sample_alias  \\\n",
       "SAMEA6359322            NaN               NaN               NaN   C10F-V3-V4   \n",
       "SAMEA6359323            NaN               NaN               NaN   C11F-V3-V4   \n",
       "SAMEA6359324            NaN               NaN               NaN   C12F-V3-V4   \n",
       "SAMEA6359325            NaN               NaN               NaN   C13F-V3-V4   \n",
       "SAMEA6359326            NaN               NaN               NaN   C14F-V3-V4   \n",
       "\n",
       "             broker_name sample_title nominal_sdev first_created  \n",
       "SAMEA6359322         NaN   C10F-V3-V4            0    2019-12-04  \n",
       "SAMEA6359323         NaN   C11F-V3-V4            0    2019-12-04  \n",
       "SAMEA6359324         NaN   C12F-V3-V4            0    2019-12-04  \n",
       "SAMEA6359325         NaN   C13F-V3-V4            0    2019-12-04  \n",
       "SAMEA6359326         NaN   C14F-V3-V4            0    2019-12-04  \n",
       "\n",
       "[5 rows x 83 columns]"
      ]
     },
     "execution_count": 4,
     "metadata": {},
     "output_type": "execute_result"
    }
   ],
   "source": [
    "base_name = 'PRJEB35665'\n",
    "table = ENA_tools.fetch(base_name)\n",
    "table.head()"
   ]
  },
  {
   "cell_type": "markdown",
   "metadata": {},
   "source": [
    "#### Filter table as you wish and reinitialize new pandas table with ena features"
   ]
  },
  {
   "cell_type": "code",
   "execution_count": 7,
   "metadata": {},
   "outputs": [],
   "source": [
    "table_filtered = table.iloc[10:12]\n",
    "table_filtered.ena.reinit(table)"
   ]
  },
  {
   "cell_type": "markdown",
   "metadata": {},
   "source": [
    "#### Download"
   ]
  },
  {
   "cell_type": "code",
   "execution_count": 8,
   "metadata": {},
   "outputs": [
    {
     "data": {
      "application/vnd.jupyter.widget-view+json": {
       "model_id": "1efda09786764da0bbf64cba1b59168c",
       "version_major": 2,
       "version_minor": 0
      },
      "text/plain": [
       "HBox(children=(FloatProgress(value=0.0, description='Downloading fastq', max=2.0, style=ProgressStyle(descript…"
      ]
     },
     "metadata": {},
     "output_type": "display_data"
    },
    {
     "name": "stdout",
     "output_type": "stream",
     "text": [
      "\n"
     ]
    },
    {
     "data": {
      "text/html": [
       "<div>\n",
       "<style scoped>\n",
       "    .dataframe tbody tr th:only-of-type {\n",
       "        vertical-align: middle;\n",
       "    }\n",
       "\n",
       "    .dataframe tbody tr th {\n",
       "        vertical-align: top;\n",
       "    }\n",
       "\n",
       "    .dataframe thead th {\n",
       "        text-align: right;\n",
       "    }\n",
       "</style>\n",
       "<table border=\"1\" class=\"dataframe\">\n",
       "  <thead>\n",
       "    <tr style=\"text-align: right;\">\n",
       "      <th></th>\n",
       "      <th>sample_name</th>\n",
       "      <th>accession</th>\n",
       "      <th>filepath</th>\n",
       "      <th>number_of_files</th>\n",
       "      <th>download_status</th>\n",
       "    </tr>\n",
       "  </thead>\n",
       "  <tbody>\n",
       "    <tr>\n",
       "      <th>0</th>\n",
       "      <td>SAMEA6359332</td>\n",
       "      <td>ERR3711723</td>\n",
       "      <td>[/data5/bio/runs-tikhonova/GIT_repos/ENA_tools...</td>\n",
       "      <td>2</td>\n",
       "      <td>[OK, OK]</td>\n",
       "    </tr>\n",
       "    <tr>\n",
       "      <th>1</th>\n",
       "      <td>SAMEA6359333</td>\n",
       "      <td>ERR3711724</td>\n",
       "      <td>[/data5/bio/runs-tikhonova/GIT_repos/ENA_tools...</td>\n",
       "      <td>2</td>\n",
       "      <td>[OK, OK]</td>\n",
       "    </tr>\n",
       "  </tbody>\n",
       "</table>\n",
       "</div>"
      ],
      "text/plain": [
       "    sample_name   accession  \\\n",
       "0  SAMEA6359332  ERR3711723   \n",
       "1  SAMEA6359333  ERR3711724   \n",
       "\n",
       "                                            filepath number_of_files  \\\n",
       "0  [/data5/bio/runs-tikhonova/GIT_repos/ENA_tools...               2   \n",
       "1  [/data5/bio/runs-tikhonova/GIT_repos/ENA_tools...               2   \n",
       "\n",
       "  download_status  \n",
       "0        [OK, OK]  \n",
       "1        [OK, OK]  "
      ]
     },
     "execution_count": 8,
     "metadata": {},
     "output_type": "execute_result"
    }
   ],
   "source": [
    "report = table_filtered.ena.download()\n",
    "report.head()"
   ]
  },
  {
   "cell_type": "markdown",
   "metadata": {},
   "source": [
    "### Download metadata and all fastq files at once"
   ]
  },
  {
   "cell_type": "code",
   "execution_count": null,
   "metadata": {},
   "outputs": [],
   "source": [
    "base_name = 'PRJEB35665'\n",
    "table, report = ENA_tools.fetch(base_name, download=True, path='test_path') # you can change the path in case you\n",
    "#                                                                             want to store data in a different directory\n",
    "table.head()"
   ]
  }
 ],
 "metadata": {
  "celltoolbar": "Initialization Cell",
  "kernelspec": {
   "display_name": "Python 3",
   "language": "python",
   "name": "python3"
  },
  "language_info": {
   "codemirror_mode": {
    "name": "ipython",
    "version": 3
   },
   "file_extension": ".py",
   "mimetype": "text/x-python",
   "name": "python",
   "nbconvert_exporter": "python",
   "pygments_lexer": "ipython3",
   "version": "3.7.7"
  }
 },
 "nbformat": 4,
 "nbformat_minor": 2
}
